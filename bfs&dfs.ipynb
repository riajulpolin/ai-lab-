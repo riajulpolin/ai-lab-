{
 "cells": [
  {
   "cell_type": "code",
   "execution_count": 2,
   "metadata": {},
   "outputs": [
    {
     "name": "stdout",
     "output_type": "stream",
     "text": [
      "Following is DFS from (starting from vertex 2)\n",
      "1 2 0 3 4 5 6 7 9 8 10 \n",
      "\n",
      "****************************************************\n",
      "\n",
      "Following is BSF from (starting from vertex 2)\n",
      "1 2 0 3 8 10 4 5 7 6 9 "
     ]
    }
   ],
   "source": [
    "from collections import defaultdict , deque\n",
    "import queue as Q\n",
    "class Graph: \n",
    "    def __init__(self): \n",
    "        self.graph = defaultdict(list)\n",
    "\n",
    "    def addEdge(self,u,v): \n",
    "        self.graph[u].append(v)\n",
    "        self.graph[v].append(u) \n",
    "\n",
    "    def clearVisited(self):\n",
    "         self.visited = [False]*(len(self.graph)) \n",
    "  \n",
    "    def DFS(self,v): \n",
    "        self.visited[v]= True\n",
    "        print (v, end = \" \")\n",
    "        for i in self.graph[v]: \n",
    "            if self.visited[i] == False: \n",
    "                self.DFS(i) \n",
    "    \n",
    "    def BFS(self, v): \n",
    "        queue = deque([]) \n",
    "        queue.append(v) \n",
    "        self.visited[v] = True\n",
    "        while queue: \n",
    "            v = queue.popleft() \n",
    "            print (v, end = \" \") \n",
    "            for i in self.graph[v]: \n",
    "                if self.visited[i] == False: \n",
    "                    queue.append(i) \n",
    "                    self.visited[i] = True\n",
    "\n",
    "\n",
    "\n",
    "g = Graph() \n",
    "g.addEdge(0,2)\n",
    "g.addEdge(0,3)\n",
    "g.addEdge(1,2)\n",
    "g.addEdge(2,3)\n",
    "g.addEdge(3,4)\n",
    "g.addEdge(4,5)\n",
    "g.addEdge(0,4)\n",
    "g.addEdge(4,7)\n",
    "g.addEdge(2,8)\n",
    "g.addEdge(5,6)\n",
    "g.addEdge(7,9)\n",
    "g.addEdge(2,10)\n",
    "\n",
    "print(\"Following is DFS from (starting from vertex 2)\")\n",
    "g.clearVisited()\n",
    "g.DFS(1) \n",
    "\n",
    "print(\"\\n\\n****************************************************\\n\")\n",
    "\n",
    "print(\"Following is BSF from (starting from vertex 2)\")\n",
    "g.clearVisited()\n",
    "g.BFS(1)"
   ]
  },
  {
   "cell_type": "code",
   "execution_count": null,
   "metadata": {},
   "outputs": [],
   "source": []
  }
 ],
 "metadata": {
  "kernelspec": {
   "display_name": "Python 3",
   "language": "python",
   "name": "python3"
  },
  "language_info": {
   "codemirror_mode": {
    "name": "ipython",
    "version": 3
   },
   "file_extension": ".py",
   "mimetype": "text/x-python",
   "name": "python",
   "nbconvert_exporter": "python",
   "pygments_lexer": "ipython3",
   "version": "3.7.3"
  }
 },
 "nbformat": 4,
 "nbformat_minor": 2
}
